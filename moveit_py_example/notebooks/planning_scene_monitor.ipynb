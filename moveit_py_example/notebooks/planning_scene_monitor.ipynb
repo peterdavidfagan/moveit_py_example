{
 "cells": [
  {
   "cell_type": "markdown",
   "id": "35b5adf2",
   "metadata": {},
   "source": [
    "# Optional - Set Black Formatter\n",
    "\n",
    "Loads Black formatter to automatically format notebook cells, requires nb_black to be installed. \n",
    "To install simply run `pip3 install nb_black`."
   ]
  },
  {
   "cell_type": "code",
   "execution_count": null,
   "id": "7bcab0f0",
   "metadata": {},
   "outputs": [],
   "source": [
    "%load_ext nb_black"
   ]
  },
  {
   "cell_type": "markdown",
   "id": "148cce10",
   "metadata": {},
   "source": [
    "# Imports and Config"
   ]
  },
  {
   "cell_type": "code",
   "execution_count": null,
   "id": "82c51d47",
   "metadata": {},
   "outputs": [],
   "source": [
    "import os\n",
    "import sys\n",
    "import yaml\n",
    "\n",
    "import rclpy\n",
    "import numpy as np\n",
    "\n",
    "# config file libraries\n",
    "from ament_index_python.packages import get_package_share_directory\n",
    "from moveit_configs_utils import MoveItConfigsBuilder\n",
    "\n",
    "# message libraries\n",
    "from geometry_msgs.msg import PoseStamped, Pose\n",
    "from moveit_msgs.msg import AttachedCollisionObject, CollisionObject, PlanningScene\n",
    "from shape_msgs.msg import SolidPrimitive\n",
    "\n",
    "# moveit_py\n",
    "from moveit_py.planning import MoveItPy\n",
    "from moveit_py.core import RobotState\n",
    "\n",
    "# manually create config (since we aren't starting moveit_py from launchfile)\n",
    "moveit_config = (\n",
    "    MoveItConfigsBuilder(\n",
    "        robot_name=\"panda\", package_name=\"moveit_resources_panda_moveit_config\"\n",
    "    )\n",
    "    .robot_description(file_path=\"config/panda.urdf.xacro\")\n",
    "    .trajectory_execution(file_path=\"config/gripper_moveit_controllers.yaml\")\n",
    "    .moveit_cpp(\n",
    "        file_path=get_package_share_directory(\"moveit_py_example\")\n",
    "        + \"/config/moveit_py.yaml\"\n",
    "    )\n",
    "    .to_moveit_configs()\n",
    ").to_dict()\n",
    "\n",
    "\n",
    "# define box that we will use throughout tutorial\n",
    "box = SolidPrimitive()\n",
    "box.type = SolidPrimitive.BOX\n",
    "box.dimensions = [0.1, 0.1, 0.1]\n",
    "\n",
    "# define flattened box that we will use throughout tutorial\n",
    "box_flattened = SolidPrimitive()\n",
    "box_flattened.type = SolidPrimitive.BOX\n",
    "box_flattened.dimensions = [0.5, 0.8, 0.01]"
   ]
  },
  {
   "cell_type": "markdown",
   "id": "4f4eb386",
   "metadata": {},
   "source": [
    "# MoveItPy Setup"
   ]
  },
  {
   "cell_type": "code",
   "execution_count": null,
   "id": "c5a44322",
   "metadata": {},
   "outputs": [],
   "source": [
    "rclpy.init()\n",
    "\n",
    "\n",
    "# instantiate MoveItPy instance and get planning component\n",
    "moveit = MoveItPy(node_name=\"moveit_py\", config_dict=moveit_config)\n",
    "panda_arm = moveit.get_planning_component(\"panda_arm\")"
   ]
  },
  {
   "cell_type": "markdown",
   "id": "f66a0b19",
   "metadata": {},
   "source": [
    "# Plan and Execute with Collision Object in Scene"
   ]
  },
  {
   "cell_type": "code",
   "execution_count": null,
   "id": "5e5ffe0a",
   "metadata": {},
   "outputs": [],
   "source": [
    "# get planning scene monitor instance from moveit_py instance\n",
    "psm = moveit.get_planning_scene_monitor()\n",
    "\n",
    "# create collision object\n",
    "co = CollisionObject()\n",
    "co.operation = CollisionObject.ADD\n",
    "co.id = \"box_1\"\n",
    "co.header.frame_id = \"panda_link0\"\n",
    "co.primitives = [box_flattened]\n",
    "pose = Pose()\n",
    "pose.position.x = 0.45\n",
    "pose.position.y = 0.35\n",
    "pose.position.z = 0.8\n",
    "co.primitive_poses = [pose]\n",
    "\n",
    "# lock the planning scene and return read_write access to a planning scene\n",
    "with psm.read_write() as scene:\n",
    "\n",
    "    # add a collision object to the scene\n",
    "    scene.apply_collision_object(co)\n",
    "\n",
    "    # check if the current robot state is in collision\n",
    "    robot_state = scene.current_state\n",
    "    robot_state.update()  # required to update transforms\n",
    "    robot_collision_status = scene.is_state_colliding(\n",
    "        robot_state=robot_state, group=\"panda_arm\", verbose=False\n",
    "    )\n",
    "\n",
    "    # check if a user-defined robot state is in collision\n",
    "    pose_goal = Pose()\n",
    "    pose_goal.position.x = 0.25\n",
    "    pose_goal.position.y = 0.25\n",
    "    pose_goal.position.z = 0.0\n",
    "    pose_goal.orientation.w = 1.0\n",
    "    robot_state.set_from_ik(\"panda_arm\", pose_goal, \"panda_link8\", timeout=5.0)\n",
    "    robot_state.update()  # required to update transforms\n",
    "\n",
    "    # This robot state should be in collision\n",
    "    robot_collision_status = scene.is_state_colliding(\n",
    "        robot_state=robot_state, group=\"panda_arm\", verbose=False\n",
    "    )\n",
    "\n",
    "# set plan start state using predefined state\n",
    "panda_arm.set_start_state(\"ready\")\n",
    "\n",
    "# set pose goal using predefined state\n",
    "panda_arm.set_goal(\"extended\")\n",
    "\n",
    "# plan to goal\n",
    "plan_solution = panda_arm.plan()\n",
    "\n",
    "if plan_solution:\n",
    "    panda_arm.execute()"
   ]
  },
  {
   "cell_type": "markdown",
   "id": "aa0b6cce",
   "metadata": {},
   "source": [
    "# Plan and Execute with Attached Collision Object"
   ]
  },
  {
   "cell_type": "code",
   "execution_count": null,
   "id": "b909755c",
   "metadata": {},
   "outputs": [],
   "source": [
    "with psm.read_write() as scene:\n",
    "    # attach collision object to robot\n",
    "    a_co = AttachedCollisionObject()\n",
    "    a_co.link_name = \"panda_link8\"\n",
    "    a_co.touch_links = [\"panda_link8\", \"panda_rightfinger\", \"panda_leftfinger\"]\n",
    "\n",
    "    co = CollisionObject()\n",
    "    co.operation = CollisionObject.ADD\n",
    "    co.id = \"box_attached\"\n",
    "    co.header.frame_id = \"panda_link0\"\n",
    "    co.primitives = [box]\n",
    "\n",
    "    robot_state = scene.current_state\n",
    "    robot_state.update()  # required to update transforms\n",
    "    eef_pose = robot_state.get_pose(\"panda_link8\")\n",
    "    eef_pose.position.x += 0.15\n",
    "    co.primitive_poses = [eef_pose]\n",
    "    a_co.object = co\n",
    "    scene.apply_attached_collision_object(a_co)\n",
    "\n",
    "# set plan start state to the current state\n",
    "panda_arm.set_start_state_to_current_state()\n",
    "\n",
    "# set pose goal with PoseStamped message\n",
    "pose_goal = PoseStamped()\n",
    "pose_goal.header.frame_id = \"panda_link0\"\n",
    "pose_goal.pose.orientation.w = 1.0\n",
    "pose_goal.pose.position.x = 0.28\n",
    "pose_goal.pose.position.y = -0.2\n",
    "pose_goal.pose.position.z = 0.2\n",
    "panda_arm.set_goal(goal_pose_msg=pose_goal, link_name=\"panda_link8\")\n",
    "\n",
    "# plan to goal\n",
    "plan_solution = panda_arm.plan()\n"
   ]
  },
  {
   "cell_type": "markdown",
   "id": "d3cc37d2",
   "metadata": {},
   "source": [
    "# Examining Properties of Plan Solution"
   ]
  },
  {
   "cell_type": "code",
   "execution_count": null,
   "id": "a4064e1e",
   "metadata": {},
   "outputs": [],
   "source": [
    "# Examine the plan solution\n",
    "solution_trajectory = plan_solution.trajectory\n",
    "\n",
    "print(\n",
    "    \"The number of waypoints in solution: {}\".format(solution_trajectory.num_waypoints)\n",
    ")\n",
    "print(\"The duration of the solution: {}\".format(solution_trajectory.duration))\n",
    "print(\n",
    "    \"The average segment duration of solution: {}\".format(\n",
    "        solution_trajectory.average_segment_duration\n",
    "    )\n",
    ")"
   ]
  },
  {
   "cell_type": "markdown",
   "id": "2345d658",
   "metadata": {},
   "source": [
    "# Checking for Collisions and Path Validity on Updated Planning Scene"
   ]
  },
  {
   "cell_type": "code",
   "execution_count": null,
   "id": "4bb33227",
   "metadata": {},
   "outputs": [],
   "source": [
    "# lets add another object to the planning scene and check a waypoint for collisions\n",
    "waypoint = solution_trajectory.get_waypoint(\n",
    "    solution_trajectory.num_waypoints - 1\n",
    ")  # get the second to last waypoint\n",
    "\n",
    "co2 = CollisionObject()\n",
    "co2.operation = CollisionObject.ADD\n",
    "co2.id = \"box_2\"\n",
    "co2.header.frame_id = \"panda_link0\"\n",
    "co2.primitives = [box_flattened]\n",
    "pose2 = Pose()\n",
    "pose2.position.x = 0.15\n",
    "pose2.position.y = 0.55\n",
    "pose2.position.z = 0.4\n",
    "co2.primitive_poses = [pose2]\n",
    "\n",
    "with psm.read_write() as scene:\n",
    "    scene.apply_collision_object(co2)\n",
    "    robot_collision_status = scene.is_state_colliding(\n",
    "        robot_state=waypoint, group=\"panda_arm\", verbose=False\n",
    "    )\n",
    "    print(\"Waypoint collision status: {}\".format(robot_collision_status))\n",
    "    path_validity_status = scene.is_path_valid(\n",
    "        path=plan_solution.trajectory, group=\"panda_arm\"\n",
    "    )\n",
    "    print(\"Path validity: {}\".format(path_validity_status))\n",
    "\n",
    "# execute the plan if plan was successful and solution trajectory is not in collision with updated planning scene\n",
    "if bool(plan_solution) & (not robot_collision_status) & (path_validity_status):\n",
    "    panda_arm.execute()\n",
    "else:\n",
    "    replan_solution = panda_arm.plan()\n",
    "    if replan_solution:\n",
    "        panda_arm.execute()"
   ]
  },
  {
   "cell_type": "markdown",
   "id": "1ad0da5d",
   "metadata": {},
   "source": [
    "# Return to Ready Pose"
   ]
  },
  {
   "cell_type": "code",
   "execution_count": null,
   "id": "0b5353a9",
   "metadata": {},
   "outputs": [],
   "source": [
    "# clear the planning scene\n",
    "with psm.read_write() as scene:\n",
    "    scene.remove_all_collision_objects()\n",
    "\n",
    "# set plan start state to the current state\n",
    "panda_arm.set_start_state_to_current_state()\n",
    "\n",
    "# set pose goal using predefined state\n",
    "panda_arm.set_goal(\"ready\")\n",
    "\n",
    "# plan to goal\n",
    "plan_solution = panda_arm.plan()\n",
    "\n",
    "# execute the plan\n",
    "if plan_solution:\n",
    "    panda_arm.execute()"
   ]
  },
  {
   "cell_type": "markdown",
   "id": "4f3e6a17",
   "metadata": {},
   "source": [
    "# Playground "
   ]
  },
  {
   "cell_type": "code",
   "execution_count": null,
   "id": "ae4ca6ad",
   "metadata": {},
   "outputs": [],
   "source": []
  }
 ],
 "metadata": {
  "kernelspec": {
   "display_name": "Python 3 (ipykernel)",
   "language": "python",
   "name": "python3"
  },
  "language_info": {
   "codemirror_mode": {
    "name": "ipython",
    "version": 3
   },
   "file_extension": ".py",
   "mimetype": "text/x-python",
   "name": "python",
   "nbconvert_exporter": "python",
   "pygments_lexer": "ipython3",
   "version": "3.10.4"
  }
 },
 "nbformat": 4,
 "nbformat_minor": 5
}
