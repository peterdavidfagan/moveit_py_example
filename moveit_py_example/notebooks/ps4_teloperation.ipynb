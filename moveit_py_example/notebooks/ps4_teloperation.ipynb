{
 "cells": [
  {
   "cell_type": "markdown",
   "id": "35b5adf2",
   "metadata": {},
   "source": [
    "# Optional - Set Black Formatter\n",
    "\n",
    "Loads Black formatter to automatically format notebook cells, requires nb_black to be installed. \n",
    "To install simply run `pip3 install nb_black`."
   ]
  },
  {
   "cell_type": "code",
   "execution_count": null,
   "id": "aa252fc3",
   "metadata": {},
   "outputs": [],
   "source": [
    "%load_ext nb_black"
   ]
  },
  {
   "cell_type": "markdown",
   "id": "01744601",
   "metadata": {},
   "source": [
    "# Import and Setup"
   ]
  },
  {
   "cell_type": "code",
   "execution_count": null,
   "id": "f94f9884",
   "metadata": {},
   "outputs": [],
   "source": [
    "import os\n",
    "import sys\n",
    "import yaml\n",
    "\n",
    "import rclpy\n",
    "import numpy as np\n",
    "\n",
    "# config file libraries\n",
    "from ament_index_python.packages import get_package_share_directory\n",
    "from moveit_configs_utils import MoveItConfigsBuilder\n",
    "\n",
    "# message libraries\n",
    "from geometry_msgs.msg import PoseStamped\n",
    "\n",
    "# moveit_py\n",
    "from moveit_py.core import RobotState\n",
    "from moveit_py.planning import MoveItPy\n",
    "from moveit_py.servo_client.devices.ps4_dualshock import PS4DualShockTeleop\n",
    "\n",
    "# manually create config (since we aren't starting moveit_py from launchfile)\n",
    "moveit_config = (\n",
    "    MoveItConfigsBuilder(\n",
    "        robot_name=\"panda\", package_name=\"moveit_resources_panda_moveit_config\"\n",
    "    )\n",
    "    .robot_description(file_path=\"config/panda.urdf.xacro\")\n",
    "    .trajectory_execution(file_path=\"config/gripper_moveit_controllers.yaml\")\n",
    "    .moveit_cpp(\n",
    "        file_path=get_package_share_directory(\"moveit_py_example\")\n",
    "        + \"/config/moveit_py.yaml\"\n",
    "    )\n",
    "    .to_moveit_configs()\n",
    ").to_dict()"
   ]
  },
  {
   "cell_type": "markdown",
   "id": "1a88485f",
   "metadata": {},
   "source": [
    "# Start MoveitPy"
   ]
  },
  {
   "cell_type": "code",
   "execution_count": null,
   "id": "4c5dd0fe",
   "metadata": {},
   "outputs": [],
   "source": [
    "rclpy.init()\n",
    "\n",
    "# instantiate MoveItPy instance and get planning component\n",
    "moveit = MoveItPy(node_name=\"moveit_py\", config_dict=moveit_config)\n",
    "panda_arm = moveit.get_planning_component(\"panda_arm\")\n",
    "ps4 = PS4DualShockTeleop()"
   ]
  },
  {
   "cell_type": "markdown",
   "id": "2d1ce5fe",
   "metadata": {},
   "source": [
    "# Start Teleop Client"
   ]
  },
  {
   "cell_type": "code",
   "execution_count": null,
   "id": "69eb5833",
   "metadata": {},
   "outputs": [],
   "source": [
    "ps4.start_teleop()"
   ]
  },
  {
   "cell_type": "markdown",
   "id": "214367df",
   "metadata": {},
   "source": [
    "# Stop Teleop Client"
   ]
  },
  {
   "cell_type": "code",
   "execution_count": null,
   "id": "1dbdd060",
   "metadata": {},
   "outputs": [],
   "source": [
    "ps4.stop_teleop()"
   ]
  },
  {
   "cell_type": "markdown",
   "id": "009f26ce",
   "metadata": {},
   "source": [
    "# Start Recording Data"
   ]
  },
  {
   "cell_type": "code",
   "execution_count": null,
   "id": "018ef284",
   "metadata": {},
   "outputs": [],
   "source": [
    "# needs to be implemented\n",
    "# ps4.record()"
   ]
  },
  {
   "cell_type": "markdown",
   "id": "16e535a6",
   "metadata": {},
   "source": [
    "# Playground"
   ]
  },
  {
   "cell_type": "code",
   "execution_count": null,
   "id": "65d3c9c6",
   "metadata": {},
   "outputs": [],
   "source": []
  }
 ],
 "metadata": {
  "kernelspec": {
   "display_name": "Python 3 (ipykernel)",
   "language": "python",
   "name": "python3"
  },
  "language_info": {
   "codemirror_mode": {
    "name": "ipython",
    "version": 3
   },
   "file_extension": ".py",
   "mimetype": "text/x-python",
   "name": "python",
   "nbconvert_exporter": "python",
   "pygments_lexer": "ipython3",
   "version": "3.10.4"
  }
 },
 "nbformat": 4,
 "nbformat_minor": 5
}
