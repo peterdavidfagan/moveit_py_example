{
 "cells": [
  {
   "cell_type": "markdown",
   "id": "9efa3d94",
   "metadata": {},
   "source": [
    "# Optional - Set Black Formatter\n",
    "\n",
    "Loads Black formatter to automatically format notebook cells, requires nb_black to be installed. \n",
    "To install simply run `pip3 install nb_black`."
   ]
  },
  {
   "cell_type": "code",
   "execution_count": null,
   "id": "42531a57",
   "metadata": {},
   "outputs": [],
   "source": [
    "%load_ext nb_black"
   ]
  },
  {
   "cell_type": "markdown",
   "id": "9846a914",
   "metadata": {},
   "source": [
    "# Imports and Config"
   ]
  },
  {
   "cell_type": "code",
   "execution_count": null,
   "id": "b2c2734d",
   "metadata": {},
   "outputs": [],
   "source": [
    "import os\n",
    "import sys\n",
    "import yaml\n",
    "\n",
    "import rclpy\n",
    "import numpy as np\n",
    "\n",
    "# config file libraries\n",
    "from ament_index_python.packages import get_package_share_directory\n",
    "from moveit_configs_utils import MoveItConfigsBuilder\n",
    "\n",
    "# message libraries\n",
    "from geometry_msgs.msg import PoseStamped, Pose\n",
    "\n",
    "# moveit_py\n",
    "from moveit_py.planning import MoveItPy\n",
    "from moveit_py.core import RobotState\n",
    "\n",
    "\n",
    "# manually create config (since we aren't starting moveit_py from launchfile)\n",
    "moveit_config = (\n",
    "        MoveItConfigsBuilder(robot_name=\"panda\", package_name=\"moveit_resources_panda_moveit_config\")\n",
    "        .robot_description(file_path=\"config/panda.urdf.xacro\")\n",
    "        .trajectory_execution(file_path=\"config/gripper_moveit_controllers.yaml\")\n",
    "        .moveit_cpp(\n",
    "            file_path=get_package_share_directory(\"moveit_py_example\")\n",
    "            + \"/config/moveit_py.yaml\"\n",
    "        )\n",
    "        .to_moveit_configs()\n",
    "    ).to_dict()"
   ]
  },
  {
   "cell_type": "markdown",
   "id": "0db9bf7f",
   "metadata": {},
   "source": [
    "# MoveItPy Setup"
   ]
  },
  {
   "cell_type": "code",
   "execution_count": null,
   "id": "386a3096",
   "metadata": {
    "scrolled": true
   },
   "outputs": [],
   "source": [
    "rclpy.init()\n",
    "\n",
    "\n",
    "# instantiate MoveItPy instance and get planning component\n",
    "moveit = MoveItPy(node_name=\"moveit_py\", config_dict=moveit_config)\n",
    "panda_arm = moveit.get_planning_component(\"panda_arm\")"
   ]
  },
  {
   "cell_type": "markdown",
   "id": "ef628008",
   "metadata": {},
   "source": [
    "# Plan 1 - set states with predefined string"
   ]
  },
  {
   "cell_type": "code",
   "execution_count": null,
   "id": "199f82a9",
   "metadata": {},
   "outputs": [],
   "source": [
    "# set plan start state using predefined state\n",
    "panda_arm.set_start_state(\"ready\")\n",
    "\n",
    "# set pose goal using predefined state\n",
    "panda_arm.set_goal(goal_state_name = \"extended\")\n",
    "\n",
    "# plan to goal\n",
    "plan_result = panda_arm.plan()\n",
    "\n",
    "# execute the plan\n",
    "if plan_result:\n",
    "  panda_arm.execute()"
   ]
  },
  {
   "cell_type": "markdown",
   "id": "b40e39e0",
   "metadata": {},
   "source": [
    "# Plan 2 - set goal state with PoseStamped message"
   ]
  },
  {
   "cell_type": "code",
   "execution_count": null,
   "id": "7707e358",
   "metadata": {},
   "outputs": [],
   "source": [
    "# set plan start state to current state\n",
    "panda_arm.set_start_state_to_current_state()\n",
    "\n",
    "# set pose goal with PoseStamped message\n",
    "pose_goal = PoseStamped()\n",
    "pose_goal.header.frame_id = \"panda_link0\"\n",
    "pose_goal.pose.orientation.w = 1.0\n",
    "pose_goal.pose.position.x = 0.28\n",
    "pose_goal.pose.position.y = -0.2\n",
    "pose_goal.pose.position.z = 0.5\n",
    "panda_arm.set_goal(goal_pose_msg = pose_goal, link_name = \"panda_link8\")                                                  \n",
    "\n",
    "# plan to goal                                                                                                            \n",
    "plan_result = panda_arm.plan()\n",
    "\n",
    "# execute the plan\n",
    "if plan_result:\n",
    "  panda_arm.execute()\n"
   ]
  },
  {
   "cell_type": "markdown",
   "id": "9a1266bf",
   "metadata": {},
   "source": [
    "# Plan 3 - set goal state with RobotState object"
   ]
  },
  {
   "cell_type": "code",
   "execution_count": null,
   "id": "515a32d1",
   "metadata": {},
   "outputs": [],
   "source": [
    "# instantiate a RobotState instance using the current robot model\n",
    "robot_model = moveit.get_robot_model()\n",
    "robot_state = RobotState(robot_model)\n",
    "\n",
    "# randomize the robot state\n",
    "robot_state.set_to_random_positions()\n",
    "\n",
    "# set plan start state to current state\n",
    "panda_arm.set_start_state_to_current_state()\n",
    "\n",
    "# set goal state to the initialized robot state\n",
    "panda_arm.set_goal(goal_state = robot_state)\n",
    "\n",
    "# plan to goal\n",
    "plan_result = panda_arm.plan()\n",
    "\n",
    "# execute the plan\n",
    "if plan_result:\n",
    "  panda_arm.execute()\n"
   ]
  },
  {
   "cell_type": "markdown",
   "id": "01e51b2d",
   "metadata": {},
   "source": [
    "# Plan 4 - set goal using inverse kinematics"
   ]
  },
  {
   "cell_type": "code",
   "execution_count": null,
   "id": "344377f7",
   "metadata": {},
   "outputs": [],
   "source": [
    "# set plan start state to current state\n",
    "panda_arm.set_start_state_to_current_state()\n",
    "\n",
    "# define constraints for the goal state\n",
    "pose_goal = Pose()\n",
    "pose_goal.orientation.w = 1.0\n",
    "pose_goal.position.x = 0.28\n",
    "pose_goal.position.y = -0.2\n",
    "pose_goal.position.z = 0.5\n",
    "robot_state.set_from_ik(\"panda_arm\", pose_goal, \"panda_link8\", timeout=5.0)\n",
    "\n",
    "# set goal using kinematic constraints\n",
    "panda_arm.set_goal(goal_state = robot_state)\n",
    "\n",
    "# plan to goal\n",
    "plan_result = panda_arm.plan()\n",
    "\n",
    "# execute the plan\n",
    "if plan_result:\n",
    "  panda_arm.execute()\n"
   ]
  },
  {
   "cell_type": "markdown",
   "id": "1dc62c8f",
   "metadata": {},
   "source": [
    "# Plan 5 - set goal using numpy array"
   ]
  },
  {
   "cell_type": "code",
   "execution_count": null,
   "id": "d8b4c958",
   "metadata": {},
   "outputs": [],
   "source": [
    "# set plan start state to current state\n",
    "panda_arm.set_start_state_to_current_state()\n",
    "\n",
    "# set goal using numpy array\n",
    "pose = np.array([0.28, -0.2, 0.5, 1.0])\n",
    "panda_arm.set_goal(goal_pose = pose, link_name = \"panda_link8\")\n",
    "\n",
    "# plan to goal\n",
    "plan_result = panda_arm.plan()\n",
    "\n",
    "# execute the plan\n",
    "if plan_result:\n",
    "  panda_arm.execute()\n"
   ]
  },
  {
   "cell_type": "markdown",
   "id": "003738a8",
   "metadata": {},
   "source": [
    "# Plan 6 - return to ready pose"
   ]
  },
  {
   "cell_type": "code",
   "execution_count": null,
   "id": "78973ee3",
   "metadata": {},
   "outputs": [],
   "source": [
    "# set plan start state to current state\n",
    "panda_arm.set_start_state_to_current_state()\n",
    "\n",
    "# set goal state to the initialized robot state\n",
    "panda_arm.set_goal(\"ready\")\n",
    "\n",
    "# plan to goal\n",
    "plan_result = panda_arm.plan()\n",
    "\n",
    "# execute the plan\n",
    "if plan_result:\n",
    "  panda_arm.execute()\n"
   ]
  },
  {
   "cell_type": "markdown",
   "id": "f4be11fd",
   "metadata": {},
   "source": [
    "# Playground"
   ]
  },
  {
   "cell_type": "code",
   "execution_count": null,
   "id": "ee739b80",
   "metadata": {},
   "outputs": [],
   "source": []
  }
 ],
 "metadata": {
  "kernelspec": {
   "display_name": "Python 3 (ipykernel)",
   "language": "python",
   "name": "python3"
  },
  "language_info": {
   "codemirror_mode": {
    "name": "ipython",
    "version": 3
   },
   "file_extension": ".py",
   "mimetype": "text/x-python",
   "name": "python",
   "nbconvert_exporter": "python",
   "pygments_lexer": "ipython3",
   "version": "3.10.4"
  }
 },
 "nbformat": 4,
 "nbformat_minor": 5
}
